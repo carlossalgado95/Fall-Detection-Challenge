{
 "cells": [
  {
   "cell_type": "code",
   "execution_count": null,
   "metadata": {},
   "outputs": [],
   "source": [
    "import pandas as pd\n",
    "import numpy as np\n",
    "import glob\n",
    "import os\n",
    "\n",
    "def load_trials(base_path):\n",
    "    X, y = [], []\n",
    "    labels = {'ADLs': 0, 'Falls': 1, 'Near_Falls': 2}\n",
    "    \n",
    "    for subject_path in glob.glob(os.path.join(base_path, 'sub*')):\n",
    "        for label_name in ['ADLs', 'Falls', 'Near_Falls']:\n",
    "            folder = os.path.join(subject_path, label_name)\n",
    "            for file in glob.glob(os.path.join(folder, '*.xlsx')):\n",
    "                df = pd.read_excel(file)\n",
    "\n",
    "                # waist\n",
    "                try:\n",
    "                    acc_x = df['waist Acceleration X (m/s^2)']\n",
    "                    acc_y = df['waist Acceleration Y (m/s^2)']\n",
    "                    acc_z = df['waist Acceleration Z (m/s^2)']\n",
    "                    df['acc_magnitude'] = np.sqrt(acc_x**2 + acc_y**2 + acc_z**2)\n",
    "                except KeyError as e:\n",
    "                    raise ValueError(f\"Coluna esperada não encontrada no arquivo {file}: {e}\")\n",
    "                \n",
    "                # 'Time' or 'vTime'\n",
    "                time_col = 'Time' if 'Time' in df.columns else 'vTime'\n",
    "                data = df.drop(columns=[time_col]).values\n",
    "\n",
    "                X.append(data)\n",
    "                y.append(labels[label_name])\n",
    "    \n",
    "    return X, y\n",
    "\n",
    "X_raw, y = load_trials('/home/carlos/Pictures/texas/AI_ML_Challenge')"
   ]
  },
  {
   "cell_type": "code",
   "execution_count": null,
   "metadata": {},
   "outputs": [],
   "source": [
    "from sklearn.preprocessing import StandardScaler\n",
    "\n",
    "def sliding_windows(data, labels, window_size=100, stride=50):\n",
    "    X_windows, y_windows = [], []\n",
    "    for trial, label in zip(data, labels):\n",
    "        for start in range(0, len(trial) - window_size, stride):\n",
    "            segment = trial[start:start+window_size]\n",
    "            X_windows.append(segment)\n",
    "            y_windows.append(label)\n",
    "    return np.array(X_windows), np.array(y_windows)\n",
    "\n",
    "X_win, y_win = sliding_windows(X_raw, y, window_size=128, stride=64)\n",
    "\n",
    "scaler = StandardScaler()\n",
    "X_norm = X_win.reshape(-1, X_win.shape[-1])\n",
    "X_norm = scaler.fit_transform(X_norm).reshape(X_win.shape)\n",
    "\n"
   ]
  },
  {
   "cell_type": "code",
   "execution_count": null,
   "metadata": {},
   "outputs": [
    {
     "name": "stderr",
     "output_type": "stream",
     "text": [
      "2025-04-16 18:28:31.521345: I tensorflow/core/util/port.cc:113] oneDNN custom operations are on. You may see slightly different numerical results due to floating-point round-off errors from different computation orders. To turn them off, set the environment variable `TF_ENABLE_ONEDNN_OPTS=0`.\n",
      "2025-04-16 18:28:31.608681: I tensorflow/core/platform/cpu_feature_guard.cc:210] This TensorFlow binary is optimized to use available CPU instructions in performance-critical operations.\n",
      "To enable the following instructions: AVX2 AVX_VNNI FMA, in other operations, rebuild TensorFlow with the appropriate compiler flags.\n",
      "2025-04-16 18:28:36.674498: W tensorflow/compiler/tf2tensorrt/utils/py_utils.cc:38] TF-TRT Warning: Could not find TensorRT\n",
      "2025-04-16 18:28:43.371728: I external/local_xla/xla/stream_executor/cuda/cuda_executor.cc:998] successful NUMA node read from SysFS had negative value (-1), but there must be at least one NUMA node, so returning NUMA node zero. See more at https://github.com/torvalds/linux/blob/v6.0/Documentation/ABI/testing/sysfs-bus-pci#L344-L355\n",
      "2025-04-16 18:28:43.375255: W tensorflow/core/common_runtime/gpu/gpu_device.cc:2251] Cannot dlopen some GPU libraries. Please make sure the missing libraries mentioned above are installed properly if you would like to use GPU. Follow the guide at https://www.tensorflow.org/install/gpu for how to download and setup the required libraries for your platform.\n",
      "Skipping registering GPU devices...\n"
     ]
    },
    {
     "name": "stdout",
     "output_type": "stream",
     "text": [
      "\u001b[1m450/450\u001b[0m \u001b[32m━━━━━━━━━━━━━━━━━━━━\u001b[0m\u001b[37m\u001b[0m \u001b[1m1s\u001b[0m 2ms/step\n"
     ]
    }
   ],
   "source": [
    "import tensorflow as tf\n",
    "from tensorflow.keras import layers, models\n",
    "\n",
    "input_shape = X_norm.shape[1:]  # (timesteps, features)\n",
    "\n",
    "model = models.Sequential([\n",
    "    layers.Input(shape=input_shape),\n",
    "    layers.Conv1D(64, kernel_size=5, activation='relu'),\n",
    "    layers.MaxPooling1D(pool_size=2),\n",
    "    layers.Conv1D(128, kernel_size=5, activation='relu'),\n",
    "    layers.GlobalAveragePooling1D(),\n",
    "    layers.Dense(64, activation='relu')  # Embedding\n",
    "])\n",
    "\n",
    "deep_features = model.predict(X_norm)"
   ]
  },
  {
   "cell_type": "markdown",
   "metadata": {},
   "source": [
    "I chose to use a 1D CNN network to extract temporal patterns from the certification signals. This type of model is efficient in capturing local variations in time series with low computational cost. After extracting embeddings, I used a Random Forest for its robustness, ability to handle non-linearly separable data, and ease of interpretation. Using class_weight='balanced' helps to compensate for class imbalance."
   ]
  },
  {
   "cell_type": "code",
   "execution_count": 5,
   "metadata": {},
   "outputs": [
    {
     "name": "stdout",
     "output_type": "stream",
     "text": [
      "              precision    recall  f1-score   support\n",
      "\n",
      "         ADL       0.96      0.97      0.97      1208\n",
      "        Fall       0.90      0.84      0.87       974\n",
      "   Near Fall       0.80      0.86      0.83       696\n",
      "\n",
      "    accuracy                           0.90      2878\n",
      "   macro avg       0.89      0.89      0.89      2878\n",
      "weighted avg       0.90      0.90      0.90      2878\n",
      "\n"
     ]
    }
   ],
   "source": [
    "from sklearn.ensemble import RandomForestClassifier\n",
    "from sklearn.metrics import classification_report\n",
    "from sklearn.model_selection import train_test_split\n",
    "\n",
    "X_train, X_test, y_train, y_test = train_test_split(deep_features, y_win, test_size=0.2, stratify=y_win, random_state=42)\n",
    "\n",
    "clf = RandomForestClassifier(n_estimators=200, class_weight='balanced', random_state=42)\n",
    "clf.fit(X_train, y_train)\n",
    "\n",
    "y_pred = clf.predict(X_test)\n",
    "print(classification_report(y_test, y_pred, target_names=['ADL', 'Fall', 'Near Fall']))"
   ]
  },
  {
   "cell_type": "code",
   "execution_count": 6,
   "metadata": {},
   "outputs": [
    {
     "data": {
      "image/png": "[encoded data removed]",
      "text/plain": [
       "<Figure size 640x480 with 2 Axes>"
      ]
     },
     "metadata": {},
     "output_type": "display_data"
    }
   ],
   "source": [
    "from sklearn.metrics import confusion_matrix, ConfusionMatrixDisplay\n",
    "import matplotlib.pyplot as plt\n",
    "\n",
    "cm = confusion_matrix(y_test, y_pred)\n",
    "disp = ConfusionMatrixDisplay(confusion_matrix=cm, display_labels=['ADL', 'Fall', 'Near Fall'])\n",
    "disp.plot(cmap=plt.cm.Blues)\n",
    "plt.title(\"Matriz de Confusão\")\n",
    "plt.show()"
   ]
  }
 ],
 "metadata": {
  "kernelspec": {
   "display_name": "Python 3",
   "language": "python",
   "name": "python3"
  },
  "language_info": {
   "codemirror_mode": {
    "name": "ipython",
    "version": 3
   },
   "file_extension": ".py",
   "mimetype": "text/x-python",
   "name": "python",
   "nbconvert_exporter": "python",
   "pygments_lexer": "ipython3",
   "version": "3.10.12"
  }
 },
 "nbformat": 4,
 "nbformat_minor": 2
}
